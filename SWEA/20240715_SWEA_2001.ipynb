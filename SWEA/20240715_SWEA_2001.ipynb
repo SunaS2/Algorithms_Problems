{
 "cells": [
  {
   "cell_type": "markdown",
   "id": "85b943c0",
   "metadata": {},
   "source": [
    "## 파리 퇴치\n",
    "\n",
    "N x N 배열 안의 숫자는 해당 영역에 존재하는 파리의 개수를 의미한다.\n",
    "\n",
    "M x M 크기의 파리채를 한 번 내리쳐 최대한 많은 파리를 죽이고자 한다.\n",
    "\n",
    "죽은 파리의 개수를 구하라!\n",
    "\n",
    "\n",
    "#### [제약 사항]\n",
    "\n",
    "1. N 은 5 이상 15 이하이다.\n",
    "\n",
    "2. M은 2 이상 N 이하이다.\n",
    "\n",
    "3. 각 영역의 파리 갯수는 30 이하 이다.\n",
    "\n",
    "\n",
    "#### [입력]\n",
    "\n",
    "가장 첫 줄에는 테스트 케이스의 개수 T가 주어지고, 그 아래로 각 테스트 케이스가 주어진다.\n",
    "\n",
    "각 테스트 케이스의 첫 번째 줄에 N 과 M 이 주어지고,\n",
    "\n",
    "다음 N 줄에 걸쳐 N x N 배열이 주어진다.\n",
    "\n",
    "\n",
    "#### [출력]\n",
    "\n",
    "출력의 각 줄은 '#t'로 시작하고, 공백을 한 칸 둔 다음 정답을 출력한다.\n",
    "\n",
    "(t는 테스트 케이스의 번호를 의미하며 1부터 시작한다.)"
   ]
  },
  {
   "cell_type": "code",
   "execution_count": 1,
   "id": "eee915f6",
   "metadata": {},
   "outputs": [],
   "source": [
    "T = int(input())\n",
    "\n",
    "for tc in range(1,T+1):\n",
    "    N, M = map(int, input().split())\n",
    "\n",
    "    line=[]\n",
    "    for i in range(N):\n",
    "        line= line.append(map(int,input()))\n",
    "    \n",
    "    sum_fly=0\n",
    "    temp_fly=0\n",
    "    max_fly=0\n",
    "    for x in range(N):\n",
    "        for y in range(N):\n",
    "            fly1 = line[x][y:y+1]\n",
    "            fly2 = line[x][y+1:y+2]\n",
    "            fly3 = line[x+1][y:y+1]\n",
    "            fly4 = line[x+1][y+1:y+2]\n",
    "\n",
    "            sum_fly=fly1+fly2+fly3+fly4\n",
    "\n",
    "            if sum_fly>=temp_fly:\n",
    "                max_fly=sum_fly\n",
    "            \n",
    "            temp_fly=sum_fly\n",
    "\n",
    "    print(f'#{T} {max_fly}')"
   ]
  }
 ],
 "metadata": {
  "kernelspec": {
   "display_name": "Python 3",
   "language": "python",
   "name": "python3"
  },
  "language_info": {
   "codemirror_mode": {
    "name": "ipython",
    "version": 3
   },
   "file_extension": ".py",
   "mimetype": "text/x-python",
   "name": "python",
   "nbconvert_exporter": "python",
   "pygments_lexer": "ipython3",
   "version": "3.9.13"
  }
 },
 "nbformat": 4,
 "nbformat_minor": 5
}
