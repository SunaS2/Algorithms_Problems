{
 "cells": [
  {
   "cell_type": "markdown",
   "id": "23a29a08-01e4-42b6-a51f-698a93f55e00",
   "metadata": {},
   "source": [
    "## 간단한 N의 정수\n",
    "\n",
    "입력으로 1개의 정수 N 이 주어진다.\n",
    "\n",
    "정수 N 의 약수를 오름차순으로 출력하는 프로그램을 작성하라.\n",
    " \n",
    "\n",
    "#### [제약사항]\n",
    "\n",
    "N은 1이상 1,000이하의 정수이다. (1 ≤ N ≤ 1,000)\n",
    " \n",
    "\n",
    "#### [입력]\n",
    "\n",
    "입력으로 정수 N 이 주어진다.\n",
    "\n",
    "\n",
    "#### [출력]\n",
    "\n",
    "정수 N 의 모든 약수를 오름차순으로 출력한다."
   ]
  },
  {
   "cell_type": "markdown",
   "id": "851855af-fe5c-45f1-b4b9-6438f10d02c5",
   "metadata": {},
   "source": [
    "#### <입력>\n",
    " 10\n",
    "\n",
    "#### <출력>\n",
    "1 2 5 10"
   ]
  },
  {
   "cell_type": "code",
   "execution_count": 11,
   "id": "750c73d0-3f78-498a-b0f0-131d83ed6d50",
   "metadata": {},
   "outputs": [
    {
     "name": "stdout",
     "output_type": "stream",
     "text": [
      "1 2 5 10 "
     ]
    }
   ],
   "source": [
    "T = 10 #int(input())\n",
    "\n",
    "list_divisor=[]\n",
    "\n",
    "for i in range(1,T+1):\n",
    "    if T%i==0:\n",
    "        list_divisor.append(i)\n",
    "\n",
    "for x in range(0,len(list_divisor)):\n",
    "    print(f'{list_divisor[x]}', end=\" \")"
   ]
  }
 ],
 "metadata": {
  "kernelspec": {
   "display_name": "Python 3 (ipykernel)",
   "language": "python",
   "name": "python3"
  },
  "language_info": {
   "codemirror_mode": {
    "name": "ipython",
    "version": 3
   },
   "file_extension": ".py",
   "mimetype": "text/x-python",
   "name": "python",
   "nbconvert_exporter": "python",
   "pygments_lexer": "ipython3",
   "version": "3.9.13"
  }
 },
 "nbformat": 4,
 "nbformat_minor": 5
}
