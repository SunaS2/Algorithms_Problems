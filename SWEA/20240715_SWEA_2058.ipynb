{
 "cells": [
  {
   "cell_type": "markdown",
   "id": "db9a9022-d3dd-4199-a849-315cf9fde117",
   "metadata": {},
   "source": [
    "## 자릿수 더하기\n",
    "\n",
    "하나의 자연수를 입력 받아 각 자릿수의 합을 계산하는 프로그램을 작성하라.\n",
    "\n",
    "\n",
    "#### [제약 사항]\n",
    "\n",
    "자연수 N은 1부터 9999까지의 자연수이다. (1 ≤ N ≤ 9999)\n",
    "\n",
    "\n",
    "#### [입력]\n",
    "\n",
    "입력으로 자연수 N이 주어진다.\n",
    "\n",
    "\n",
    "#### [출력]\n",
    "\n",
    "각 자릿수의 합을 출력한다.\n",
    "\n",
    "#### <입력>\n",
    "입력으로 자연수 N이 주어진다.\n",
    "\n",
    "#### <출력>\n",
    "각 자리수의 합을 출력한다."
   ]
  },
  {
   "cell_type": "code",
   "execution_count": 3,
   "id": "e0ee27ef-8d8f-4cd5-94fc-94387c8c1839",
   "metadata": {},
   "outputs": [
    {
     "name": "stdout",
     "output_type": "stream",
     "text": [
      "10\n"
     ]
    }
   ],
   "source": [
    "T = '1234' #input()\n",
    "sum = 0\n",
    "\n",
    "for i in range(len(T)):\n",
    "    sum += int(T[i])\n",
    "\n",
    "print(sum)"
   ]
  }
 ],
 "metadata": {
  "kernelspec": {
   "display_name": "Python 3 (ipykernel)",
   "language": "python",
   "name": "python3"
  },
  "language_info": {
   "codemirror_mode": {
    "name": "ipython",
    "version": 3
   },
   "file_extension": ".py",
   "mimetype": "text/x-python",
   "name": "python",
   "nbconvert_exporter": "python",
   "pygments_lexer": "ipython3",
   "version": "3.9.13"
  }
 },
 "nbformat": 4,
 "nbformat_minor": 5
}
